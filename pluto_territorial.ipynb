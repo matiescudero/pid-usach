{
 "cells": [
  {
   "cell_type": "markdown",
   "metadata": {},
   "source": [
    "# Librerías"
   ]
  },
  {
   "cell_type": "code",
   "execution_count": 209,
   "metadata": {},
   "outputs": [],
   "source": [
    "import arcpy\n",
    "import random\n",
    "import numpy as np, numpy.random\n",
    "from numpy.random import multinomial"
   ]
  },
  {
   "cell_type": "markdown",
   "metadata": {},
   "source": [
    "# Funciones"
   ]
  },
  {
   "cell_type": "code",
   "execution_count": 210,
   "metadata": {},
   "outputs": [],
   "source": [
    "def crear_dict_uso():\n",
    "    \"\"\"\n",
    "    Genera un diccionario que contiene los distintos tipos de uso de suelo y sus respectivos \n",
    "    totales de superficie a distribuir dentro de la capa de manzanas.\n",
    "\n",
    "    Returns:\n",
    "        dict_uso_suelo (dict): Diccionario de usos de suelo y su porcentaje ingresado por el usuario.\n",
    "\n",
    "    \"\"\"\n",
    "     \n",
    "    # Se inicializa el diccionario\n",
    "    dict_uso_suelo = {\"residencia\": 0,\n",
    "                      \"comercio\": 0,\n",
    "                      \"educacion\": 0,\n",
    "                      \"salud\": 0,\n",
    "                      \"oficinas\": 0,\n",
    "                      \"parque\":0}\n",
    "\n",
    "    # Ciclo para solicitar porcentaje de cada uso de suelo\n",
    "    for uso_suelo in dict_uso_suelo:\n",
    "\n",
    "        print(\"Ingrese la superficie total de uso de suelo tipo \" + uso_suelo)\n",
    "        dict_uso_suelo[uso_suelo] = int(input())\n",
    "        \n",
    "    return dict_uso_suelo"
   ]
  },
  {
   "cell_type": "code",
   "execution_count": 211,
   "metadata": {},
   "outputs": [],
   "source": [
    "def crear_dict_gse():\n",
    "    \"\"\"\n",
    "    Genera diccionario de los distintos GSE's para las zonas:\n",
    "    \n",
    "    Returns:\n",
    "        dict_gse (dict): Diccionario de los GSE a incluir dentro del Feature Class.\n",
    "        \n",
    "    \"\"\"\n",
    "    \n",
    "    # Se inicializa el diccionario\n",
    "    dict_gse = {\"p_bajo\": 0,\n",
    "                \"p_medio\": 0,\n",
    "                \"p_alto\": 0}\n",
    "    \n",
    "    return dict_gse"
   ]
  },
  {
   "cell_type": "code",
   "execution_count": 212,
   "metadata": {},
   "outputs": [],
   "source": [
    "def contar_registros_fc(feature_class):\n",
    "    \"\"\"\n",
    "    Cuenta el número de filas de un determinado feature class.\n",
    "    \n",
    "    Args:\n",
    "        feature_class (str): Nombre de la feature class cargada en el proyecto.\n",
    "        \n",
    "    Returns:\n",
    "        n_rows (int): Número de filas del Feature Class.\n",
    "    \"\"\"\n",
    "    n_rows = int(arcpy.GetCount_management(\"manzanas\").getOutput(0))\n",
    "    \n",
    "    return n_rows"
   ]
  },
  {
   "cell_type": "code",
   "execution_count": 231,
   "metadata": {},
   "outputs": [],
   "source": [
    "def crear_np_gse(n_rows):\n",
    "    \"\"\"\n",
    "    Genera un numpy array de 3 dimensiones, donde la suma total de cada fila es igual a 100.\n",
    "    Cada columna representa un GSE.\n",
    "    \n",
    "    Args:\n",
    "        n_rows (int): N° de filas del Feature Class al que se le añadirán las columnas\n",
    "        \n",
    "    Returns:\n",
    "        np_gse (np.array): Numpy array de 3 dimensiones que representa la distribución de GSE's de cada zona.\n",
    "    \"\"\"\n",
    "    \n",
    "    np_gse = np.vstack([(np.random.dirichlet(np.ones(3),size=1)*100)[0] for i in range(n_rows)])\n",
    "    \n",
    "    return np_gse\n",
    "\n"
   ]
  },
  {
   "cell_type": "code",
   "execution_count": 214,
   "metadata": {},
   "outputs": [],
   "source": [
    "def crear_lista_random(suma_total, n_rows):\n",
    "    \"\"\"\n",
    "    Crea una lista de tamaño n_rows donde la suma corresponde a suma_total. \n",
    "    Los valores se distribuyen según una distribución binomial.\n",
    "    \n",
    "    Args:\n",
    "        suma_total (int): Suma total de la lista generada.\n",
    "        n_rows (int): Número de elementos de lista a generar.\n",
    "        \n",
    "    Returns:\n",
    "        lista_random (list): Lista de tamaño n_rows y suma equivalente a suma_total\n",
    "    \"\"\"\n",
    "    \n",
    "    lista_random = multinomial(suma_total, [1/n_rows] * n_rows)\n",
    "    \n",
    "    return lista_random"
   ]
  },
  {
   "cell_type": "code",
   "execution_count": 215,
   "metadata": {},
   "outputs": [],
   "source": [
    "def crear_lista_uso(dict_ptjes, n_rows):\n",
    "    \"\"\"\n",
    "    Genera una lista del tamaño de filas de la capa de manzanas que contiene tipos de uso de\n",
    "    suelo repartida de acuerdo a los porcentajes establecidos inicialmente\n",
    "    \n",
    "    Args:\n",
    "        dict_ptjes (dict): Diccionario de usos de suelo y sus respectivos porcentajes\n",
    "        n_rows (int): Número de filas del Feature Class\n",
    "        \n",
    "    Returns:\n",
    "        lista_uso_suelos (list): Lista de tamaño n_rows que contiene distintos usos de suelo. \n",
    "    \"\"\"\n",
    "    \n",
    "    lista_uso_suelos = sum([[key]*int(dict_ptjes[key]*(n_rows/100)) for key in dict_ptjes],[])\n",
    "    \n",
    "    # Se desordena la lista\n",
    "    random.shuffle(lista_uso_suelos)\n",
    "    \n",
    "    return lista_uso_suelos"
   ]
  },
  {
   "cell_type": "code",
   "execution_count": 216,
   "metadata": {},
   "outputs": [],
   "source": [
    "def get_columnas(feature_class):\n",
    "    \"\"\"\n",
    "    Devuelve la lista de columnas de un feature_class\n",
    "    \n",
    "    Args:\n",
    "        feature_class (str): Nombre del feature_class\n",
    "        \n",
    "    Returns:\n",
    "        lista_columnas (list): Lista de columnas\n",
    "    \"\"\"\n",
    "    lista_columnas = [columna.name for columna in arcpy.ListFields(feature_class)]\n",
    "    return lista_columnas"
   ]
  },
  {
   "cell_type": "code",
   "execution_count": 217,
   "metadata": {},
   "outputs": [],
   "source": [
    "def eliminar_columna(feature_class, columna, lista_columnas):\n",
    "    \"\"\"\n",
    "    Elimina una columna de un determinado feature class.\n",
    "    \n",
    "    Args:\n",
    "        feature_class (str): Nombre del Feature Class al que se elimina la columna\n",
    "        columna (str): Nombre de la columna a eliminar\n",
    "        lista_columnas (list): Lista de columnas del feature class\n",
    "    \"\"\"\n",
    "    \n",
    "    if columna in lista_columnas:\n",
    "        arcpy.DeleteField_management (feature_class, columna)"
   ]
  },
  {
   "cell_type": "code",
   "execution_count": 229,
   "metadata": {},
   "outputs": [],
   "source": [
    "def crear_columna(feature_class, nombre_columna, tipo_columna, largo_columna = None):\n",
    "    \"\"\"\n",
    "    Genera una nueva columna en el feature class indicado.\n",
    "    \n",
    "    Args:\n",
    "        feature_class (str): Nombre del feature class al que se añade la columna\n",
    "        nombre_columna (str): Nombre de la columna a añadir al feature class\n",
    "        tipo_columna (str): Tipo de dato a alojar en la nueva columna\n",
    "        largo_columna (int): Largo del dato a alojar en la nueva columna\n",
    "    \"\"\"\n",
    "    arcpy.AddField_management(feature_class,\n",
    "                              nombre_columna,\n",
    "                              tipo_columna,\n",
    "                              largo_columna)"
   ]
  },
  {
   "cell_type": "code",
   "execution_count": 219,
   "metadata": {},
   "outputs": [],
   "source": [
    "def crear_cursor(feature_class):\n",
    "    \"\"\"\n",
    "    Genera un cursor para iterar sobre las filas del feature class.\n",
    "    \n",
    "    Args:\n",
    "        feature_class (str): Nombre del feature class al cual se le quiere generar el cursor.\n",
    "    \n",
    "    Returns:\n",
    "        cursor (arcpy.arcobjects.arcobjects.Cursor): Cursor del FC indicado.\n",
    "    \"\"\"\n",
    "    cursor = arcpy.UpdateCursor(feature_class)\n",
    "    \n",
    "    return cursor"
   ]
  },
  {
   "cell_type": "code",
   "execution_count": 220,
   "metadata": {},
   "outputs": [],
   "source": [
    "def lista_a_columna(feature_class, lista_columna, nombre_columna):\n",
    "    \"\"\"\n",
    "    Transforma una lista en una columna de un feature class.\n",
    "    \n",
    "    Args:\n",
    "        feature_class (str): Nombre del feature class a añadirle la columna.\n",
    "        lista_columna (list): Lista que contiene los valores a ingresar en la columna.\n",
    "        nombre_columna (str): Nombre de la columna a la que se le ingresarán valores.\n",
    "    \"\"\"\n",
    "\n",
    "    with arcpy.da.UpdateCursor(feature_class, nombre_columna) as cursor:\n",
    "        for i, row in enumerate(cursor):\n",
    "            row[0] = lista_columna[i]\n",
    "            cursor.updateRow(row)"
   ]
  },
  {
   "cell_type": "markdown",
   "metadata": {},
   "source": [
    "# Main"
   ]
  },
  {
   "cell_type": "code",
   "execution_count": 232,
   "metadata": {},
   "outputs": [
    {
     "name": "stdout",
     "output_type": "stream",
     "text": [
      "Ingrese la superficie total de uso de suelo tipo residencia\n",
      "10000\n",
      "Ingrese la superficie total de uso de suelo tipo comercio\n",
      "10000\n",
      "Ingrese la superficie total de uso de suelo tipo educacion\n",
      "10000\n",
      "Ingrese la superficie total de uso de suelo tipo salud\n",
      "100000\n",
      "Ingrese la superficie total de uso de suelo tipo oficinas\n",
      "10000\n",
      "Ingrese la superficie total de uso de suelo tipo parque\n",
      "10000\n"
     ]
    }
   ],
   "source": [
    "# Quizá alguna función para cargar la capa dentro\n",
    "\n",
    "# Se solicita al usuario ingresar la superficie total de cada uso de suelo\n",
    "dict_superficie = crear_dict_uso()\n",
    "\n",
    "# Se genera el diccionario de GSE's\n",
    "dict_gse = crear_dict_gse()\n",
    "\n",
    "# Se cuenta el número de filas de la capa de manzanas\n",
    "n_rows = contar_registros_fc(\"manzanas\")\n",
    "\n",
    "# Se crean las listas de acuerdo a los valores ingresados inicialmente\n",
    "\n",
    "lista_residencial = crear_lista_random(dict_superficie['residencia'], n_rows)\n",
    "lista_comercio = crear_lista_random(dict_superficie['comercio'], n_rows)\n",
    "lista_educacion = crear_lista_random(dict_superficie['educacion'], n_rows)\n",
    "lista_salud = crear_lista_random(dict_superficie['salud'], n_rows)\n",
    "lista_oficinas = crear_lista_random(dict_superficie['oficinas'], n_rows)\n",
    "lista_parque = crear_lista_random(dict_superficie['parque'], n_rows)\n",
    "\n",
    "# Se crea una lista de columnas del feature class\n",
    "lista_columnas = get_columnas(\"manzanas\")\n",
    "\n",
    "# Se eliminan columnas y se crean de nuevo\n",
    "\n",
    "## Columnas de tipos de uso\n",
    "for uso in dict_superficie:\n",
    "    \n",
    "    eliminar_columna(\"manzanas\", uso, lista_columnas)\n",
    "    crear_columna(\"manzanas\", uso, \"SHORT\", 50)\n",
    "\n",
    "# Se transforma la lista a una columna del Feature Class de manzanas original\n",
    "lista_a_columna(\"manzanas\", lista_residencial, \"residencia\")\n",
    "lista_a_columna(\"manzanas\", lista_comercio, \"comercio\")\n",
    "lista_a_columna(\"manzanas\", lista_educacion, \"educacion\")\n",
    "lista_a_columna(\"manzanas\", lista_salud, \"salud\")\n",
    "lista_a_columna(\"manzanas\", lista_oficinas, \"oficinas\")\n",
    "lista_a_columna(\"manzanas\", lista_parque, \"parque\")\n",
    "\n",
    "## Columnas GSE\n",
    "for gse in dict_gse:\n",
    "    \n",
    "    eliminar_columna(\"manzanas\", gse, lista_columnas)\n",
    "    crear_columna(\"manzanas\", gse, \"FLOAT\")\n",
    "\n",
    "# Se genera el array de porcentaje de distribución de los distintos GSE's en las zonas\n",
    "np_gse = crear_np_gse(n_rows)\n",
    "    \n",
    "# Listas de distintos GSE's\n",
    "gse_bajo = np_gse[:,0]\n",
    "gse_medio = np_gse[:,1]\n",
    "gse_alto = np_gse[:,2]\n",
    "\n",
    "# Se transforman las listas de GSE's a columnas \n",
    "lista_a_columna(\"manzanas\", gse_bajo, \"p_bajo\")\n",
    "lista_a_columna(\"manzanas\", gse_medio, \"p_medio\")\n",
    "lista_a_columna(\"manzanas\", gse_alto, \"p_alto\")\n",
    "\n",
    "# Pasar a GDB"
   ]
  }
 ],
 "metadata": {
  "kernelspec": {
   "display_name": "ArcGISPro",
   "language": "Python",
   "name": "python3"
  },
  "language_info": {
   "file_extension": ".py",
   "name": "python",
   "version": "3"
  }
 },
 "nbformat": 4,
 "nbformat_minor": 2
}
